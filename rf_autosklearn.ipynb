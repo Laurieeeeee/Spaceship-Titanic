{
 "cells": [
  {
   "cell_type": "code",
   "execution_count": 4,
   "metadata": {},
   "outputs": [
    {
     "ename": "SyntaxError",
     "evalue": "invalid syntax (349373280.py, line 1)",
     "output_type": "error",
     "traceback": [
      "\u001b[0;36m  Cell \u001b[0;32mIn[4], line 1\u001b[0;36m\u001b[0m\n\u001b[0;31m    conda install swig --yes\u001b[0m\n\u001b[0m          ^\u001b[0m\n\u001b[0;31mSyntaxError\u001b[0m\u001b[0;31m:\u001b[0m invalid syntax\n"
     ]
    }
   ],
   "source": [
    "conda install swig --yes\n",
    "!pip install  pyrfr \n",
    "!pip install auto-sklearn"
   ]
  },
  {
   "cell_type": "code",
   "execution_count": null,
   "metadata": {},
   "outputs": [],
   "source": [
    "import pandas as pd\n",
    "from sklearn.model_selection import train_test_split\n",
    "from autosklearn.classification import AutoSklearnClassifier\n",
    "from autosklearn.metrics import accuracy\n",
    "\n",
    "# Load data\n",
    "train_data = pd.read_csv('/Users/laurie/Library/CloudStorage/OneDrive-HKUST(Guangzhou)/hkust-gz/23fall/DSAA6000G/SPACESHIP-TITANIC/data/train.csv')\n",
    "test_data = pd.read_csv('/Users/laurie/Library/CloudStorage/OneDrive-HKUST(Guangzhou)/hkust-gz/23fall/DSAA6000G/SPACESHIP-TITANIC/data/test.csv')\n",
    "\n",
    "# Save the target variable and passenger IDs from test set for later use\n",
    "train_target = train_data['Transported']\n",
    "test_passenger_ids = test_data['PassengerId']\n",
    "\n",
    "# Combine train and test data for feature engineering\n",
    "combined_data = pd.concat([train_data.drop('Transported', axis=1), test_data], ignore_index=True)\n",
    "\n",
    "# Feature Engineering function\n",
    "def feature_engineering(data):\n",
    "    # Handle missing values for numeric columns\n",
    "    numeric_cols = data.select_dtypes(include=['number']).columns\n",
    "    data[numeric_cols] = data[numeric_cols].fillna(data[numeric_cols].mean())\n",
    "\n",
    "    # Process Cabin column (extracting deck, num, and side)\n",
    "    data['Deck'] = data['Cabin'].str.split('/', expand=True)[0]\n",
    "    data['Num'] = data['Cabin'].str.split('/', expand=True)[1]\n",
    "    data['Side'] = data['Cabin'].str.split('/', expand=True)[2]\n",
    "    data.drop('Cabin', axis=1, inplace=True)\n",
    "\n",
    "    # Handle categorical features with one-hot encoding\n",
    "    data_encoded = pd.get_dummies(data, columns=['HomePlanet', 'CryoSleep', 'Destination', 'VIP', 'Deck', 'Side'], drop_first=True)\n",
    "\n",
    "    # Convert boolean to numeric\n",
    "    bool_columns = data_encoded.select_dtypes(include=bool).columns\n",
    "    data_encoded[bool_columns] = data_encoded[bool_columns].astype(int)\n",
    "\n",
    "    # Scale numeric features\n",
    "    scaler = MinMaxScaler()\n",
    "    data_encoded[['Age', 'RoomService', 'FoodCourt', 'ShoppingMall', 'Spa', 'VRDeck']] = scaler.fit_transform(\n",
    "        data_encoded[['Age', 'RoomService', 'FoodCourt', 'ShoppingMall', 'Spa', 'VRDeck']])\n",
    "\n",
    "    # Drop unnecessary columns\n",
    "    data_encoded = data_encoded.drop(['PassengerId', 'Name', 'Num'], axis=1)\n",
    "    \n",
    "    return data_encoded\n",
    "\n",
    "\n",
    "combined_data_processed = feature_engineering(combined_data)\n",
    "train_data_processed = combined_data_processed[:len(train_data)].copy()\n",
    "test_data_processed = combined_data_processed[len(train_data):].copy()\n",
    "train_data_processed['Transported'] = train_target\n",
    "\n",
    "# Model training with hyperparameter optimization\n",
    "X = train_data_processed.drop('Transported', axis=1)\n",
    "y = train_data_processed['Transported']\n",
    "\n",
    "# Splitting the data for training and validation\n",
    "X_train, X_val, y_train, y_val = train_test_split(X, y, test_size=0.2, random_state=42)\n",
    "\n",
    "# Initialize auto-sklearn classifier\n",
    "automl = AutoSklearnClassifier(time_left_for_this_task=3600,  # Total time limit for the task\n",
    "                               per_run_time_limit=300,       # Time limit for a single call to the machine learning model\n",
    "                               metric=accuracy,              # Performance metric\n",
    "                               seed=42)                      # Random seed\n",
    "\n",
    "# Train the model\n",
    "automl.fit(X_train, y_train)\n",
    "\n",
    "# Print the final ensemble constructed by auto-sklearn\n",
    "print(automl.show_models())\n",
    "\n",
    "# Evaluate the model\n",
    "y_pred = automl.predict(X_val)\n",
    "print(f'Accuracy Score: {accuracy_score(y_val, y_pred)}')\n",
    "\n",
    "# Make predictions on the test set\n",
    "test_predictions = automl.predict(test_data_processed)\n",
    "\n",
    "# Prepare submission file\n",
    "submission = pd.DataFrame({'PassengerId': test_passenger_ids, 'Transported': test_predictions})\n",
    "submission.to_csv('submission.csv', index=False)\n",
    "\n"
   ]
  }
 ],
 "metadata": {
  "kernelspec": {
   "display_name": "Python 3",
   "language": "python",
   "name": "python3"
  },
  "language_info": {
   "codemirror_mode": {
    "name": "ipython",
    "version": 3
   },
   "file_extension": ".py",
   "mimetype": "text/x-python",
   "name": "python",
   "nbconvert_exporter": "python",
   "pygments_lexer": "ipython3",
   "version": "3.11.5"
  }
 },
 "nbformat": 4,
 "nbformat_minor": 2
}
